{
  "nbformat": 4,
  "nbformat_minor": 0,
  "metadata": {
    "colab": {
      "provenance": [],
      "authorship_tag": "ABX9TyPTvZdEvsPxaR9xWQZMqqjB",
      "include_colab_link": true
    },
    "kernelspec": {
      "name": "python3",
      "display_name": "Python 3"
    },
    "language_info": {
      "name": "python"
    }
  },
  "cells": [
    {
      "cell_type": "markdown",
      "metadata": {
        "id": "view-in-github",
        "colab_type": "text"
      },
      "source": [
        "<a href=\"https://colab.research.google.com/github/c0037654Newcastle/CSC2034-DS-Project/blob/main/CSC2034_DS_Project.ipynb\" target=\"_parent\"><img src=\"https://colab.research.google.com/assets/colab-badge.svg\" alt=\"Open In Colab\"/></a>"
      ]
    },
    {
      "cell_type": "markdown",
      "source": [
        "# CSC2034 - Data Science Project"
      ],
      "metadata": {
        "id": "j6ci4A8ZzgKR"
      }
    },
    {
      "cell_type": "markdown",
      "source": [
        "##Google Colab Setup"
      ],
      "metadata": {
        "id": "CmrBKoUf7vt1"
      }
    },
    {
      "cell_type": "code",
      "source": [
        "!git clone https://github.com/c0037654Newcastle/CSC2034-DS-Project.git"
      ],
      "metadata": {
        "colab": {
          "base_uri": "https://localhost:8080/"
        },
        "id": "4hpluYEF77KQ",
        "outputId": "51d851fc-a6ec-4fa5-fcb5-7baad06ec069"
      },
      "execution_count": 20,
      "outputs": [
        {
          "output_type": "stream",
          "name": "stdout",
          "text": [
            "Cloning into 'CSC2034-DS-Project'...\n",
            "remote: Enumerating objects: 31, done.\u001b[K\n",
            "remote: Counting objects: 100% (31/31), done.\u001b[K\n",
            "remote: Compressing objects: 100% (28/28), done.\u001b[K\n",
            "remote: Total 31 (delta 7), reused 0 (delta 0), pack-reused 0\u001b[K\n",
            "Unpacking objects: 100% (31/31), 100.80 KiB | 964.00 KiB/s, done.\n"
          ]
        }
      ]
    },
    {
      "cell_type": "code",
      "source": [
        "import os\n",
        "os.chdir('CSC2034-DS-Project')"
      ],
      "metadata": {
        "id": "x_0H-6fA8EH4"
      },
      "execution_count": 21,
      "outputs": []
    },
    {
      "cell_type": "markdown",
      "source": [
        "##Importing the datasets\n",
        "Importing the datasets for both varieties (red and white) of Portuguese Vinho Verde."
      ],
      "metadata": {
        "id": "qB-ny5QA0CLf"
      }
    },
    {
      "cell_type": "code",
      "source": [
        "import pandas as pd\n",
        "\n",
        "white_path = './data/winequality-white.csv'\n",
        "red_path = './data/winequality-red.csv'\n",
        "\n",
        "white_vihno_dataset = pd.read_csv(white_path, header = 0, sep=';')\n",
        "red_vihno_dataset = pd.read_csv(red_path, header = 0, sep=';')"
      ],
      "metadata": {
        "id": "GssDXc8lz6r1"
      },
      "execution_count": 27,
      "outputs": []
    },
    {
      "cell_type": "markdown",
      "source": [
        "##Exploratory Data Analysis (EDA)"
      ],
      "metadata": {
        "id": "K0u3jsEyGbbA"
      }
    },
    {
      "cell_type": "markdown",
      "source": [
        "###1) A\n",
        "*   Describe the distribution of wine quality across all samples, separately for red and white. (NEED TO DO)\n",
        "*   Compare the quality distributions between reds and whites. (NEED TO DO)\n",
        "*   Create suitable plots to illustrate"
      ],
      "metadata": {
        "id": "5Fs3YWAsdjwx"
      }
    },
    {
      "cell_type": "markdown",
      "source": [
        "**NEED TO STILL DO THE FIRST TWO OBJECTIVE**"
      ],
      "metadata": {
        "id": "L-BbUMLJhVX3"
      }
    },
    {
      "cell_type": "markdown",
      "source": [
        "\n",
        "Distribution of the quality of the white vinho verde in the dataset"
      ],
      "metadata": {
        "id": "GR9DEywgG01z"
      }
    },
    {
      "cell_type": "code",
      "source": [
        "import seaborn as sns\n",
        "import matplotlib.pyplot as plt\n",
        "\n",
        "plt.figure(figsize = (10, 6))\n",
        "sns.countplot(x = \"quality\", data = white_vihno_dataset)\n",
        "plt.title(\"Count of the quality of the white vihno verde in the dataset\")\n",
        "plt.xlabel(\"Quality\")\n",
        "plt.ylabel(\"Count\")\n",
        "plt.xticks()\n",
        "plt.show()\n",
        "plt.close()"
      ],
      "metadata": {
        "colab": {
          "base_uri": "https://localhost:8080/",
          "height": 404
        },
        "id": "qnq3iorGGugU",
        "outputId": "c1ad7741-9e50-4a0d-ed85-968e21f52a67"
      },
      "execution_count": 75,
      "outputs": [
        {
          "output_type": "display_data",
          "data": {
            "text/plain": [
              "<Figure size 720x432 with 1 Axes>"
            ],
            "image/png": "[encoded data removed]"
          },
          "metadata": {
            "needs_background": "light"
          }
        }
      ]
    },
    {
      "cell_type": "markdown",
      "source": [
        "Distribution of the quality of the red vinho verde in the dataset"
      ],
      "metadata": {
        "id": "5BvuFMwkHgkP"
      }
    },
    {
      "cell_type": "code",
      "source": [
        "import seaborn as sns\n",
        "import matplotlib.pyplot as plt\n",
        "\n",
        "plt.figure(figsize = (10, 6))\n",
        "sns.countplot(x = \"quality\", data = red_vihno_dataset)\n",
        "plt.title(\"Count of the quality of the white vihno verde in the dataset\")\n",
        "plt.xlabel(\"Quality\")\n",
        "plt.ylabel(\"Count\")\n",
        "plt.xticks()\n",
        "plt.show()\n",
        "plt.close()"
      ],
      "metadata": {
        "colab": {
          "base_uri": "https://localhost:8080/",
          "height": 404
        },
        "id": "ujqtZr2jHh23",
        "outputId": "75dc3001-7f72-4d9c-c1bd-76e8aaabce00"
      },
      "execution_count": 76,
      "outputs": [
        {
          "output_type": "display_data",
          "data": {
            "text/plain": [
              "<Figure size 720x432 with 1 Axes>"
            ],
            "image/png": "[encoded data removed]"
          },
          "metadata": {
            "needs_background": "light"
          }
        }
      ]
    },
    {
      "cell_type": "markdown",
      "source": [
        "###1) B\n",
        "*   Discretise the alcohol content variables into low, mid, high based on its distribution.\n",
        "*   Create a 3-valued \"alcohol_cat\" variable to represent this."
      ],
      "metadata": {
        "id": "qxq7V-mLdp9o"
      }
    },
    {
      "cell_type": "markdown",
      "source": [
        "Finding the average and standard deviation of the red and white vinho verde datasets"
      ],
      "metadata": {
        "id": "nmM255psMgxZ"
      }
    },
    {
      "cell_type": "code",
      "source": [
        "import numpy as np\n",
        "\n",
        "white_average = np.mean(white_vihno_dataset['alcohol'])\n",
        "white_stddev = np.std(white_vihno_dataset['alcohol'])\n",
        "red_average = np.mean(red_vihno_dataset['alcohol'])\n",
        "red_stddev = np.std(red_vihno_dataset['alcohol'])\n",
        "\n",
        "print('White Vihno Verde Alcohol Average',white_average)\n",
        "print('White Vihno Verde Alcohol Standard Deviation',white_stddev)\n",
        "print('Red Vihno Verde Alcohol Average',red_average)\n",
        "print('Red Vihno Verde Alcohol Standard Deviation',red_stddev)"
      ],
      "metadata": {
        "colab": {
          "base_uri": "https://localhost:8080/"
        },
        "id": "bMU5GozAM1Zi",
        "outputId": "b4e45196-f40e-4d77-987d-1fae1b8864f5"
      },
      "execution_count": 69,
      "outputs": [
        {
          "output_type": "stream",
          "name": "stdout",
          "text": [
            "White Vihno Verde Alcohol Average 10.514267047774602\n",
            "White Vihno Verde Alcohol Standard Deviation 1.2304949365418656\n",
            "Red Vihno Verde Alcohol Average 10.422983114446529\n",
            "Red Vihno Verde Alcohol Standard Deviation 1.0653343003437483\n"
          ]
        }
      ]
    },
    {
      "cell_type": "markdown",
      "source": [
        "Defining the alcohol categories for the reader"
      ],
      "metadata": {
        "id": "E7tqRn_cdTPh"
      }
    },
    {
      "cell_type": "code",
      "source": [
        "print('White Alcohol level is less than',white_average - white_stddev, 'to be in the low category')"
      ],
      "metadata": {
        "id": "yuOka188dRNi"
      },
      "execution_count": null,
      "outputs": []
    },
    {
      "cell_type": "markdown",
      "source": [
        "Function for categorising the alcohol level into low, mid and high based on the average and standard deviation "
      ],
      "metadata": {
        "id": "Vhvp25tgdc61"
      }
    },
    {
      "cell_type": "code",
      "source": [
        "def alcohol_category(alcohol_level, average, stddev):\n",
        "  if alcohol_level < (average-stddev):\n",
        "    return 'low'\n",
        "  elif alcohol_level < (average + stddev):\n",
        "    return 'mid'\n",
        "  else:\n",
        "    return 'high'"
      ],
      "metadata": {
        "id": "qb4P6tpcPTiL"
      },
      "execution_count": 73,
      "outputs": []
    },
    {
      "cell_type": "markdown",
      "source": [
        "Apply the alcohol category function to red and white vihno verde datasets to create alcohol_cat column, and shows the first 5 entries of the updated dataset\n"
      ],
      "metadata": {
        "id": "IYn_BZ0kgk1T"
      }
    },
    {
      "cell_type": "code",
      "source": [
        "white_vihno_dataset['alcohol_cat'] = white_vihno_dataset['alcohol'].apply(alcohol_category, args=(white_average, white_stddev,))\n",
        "red_vihno_dataset['alcohol_cat'] = red_vihno_dataset['alcohol'].apply(alcohol_category, args=(red_average, red_stddev,))\n",
        "\n",
        "print(f\"List of features:\\n\\t{white_vihno_dataset.columns}\")\n",
        "\n",
        "print(f\"\\nExamining the first 5 entries in the dataset:\")\n",
        "display(white_vihno_dataset)"
      ],
      "metadata": {
        "id": "pbVs2HQbc1cx"
      },
      "execution_count": null,
      "outputs": []
    },
    {
      "cell_type": "markdown",
      "source": [
        "###1) C\n",
        "*   Describe the distribution of wine quality as in (1.A), but separately for low-, mid-, and high-alcohol content.\n",
        "*   Create suitable plots to illustrate.\n",
        "*    Can you draw any conclusions on the relationship between alcohol content and quality?\n",
        "\n"
      ],
      "metadata": {
        "id": "EMQWlyDehqzv"
      }
    },
    {
      "cell_type": "markdown",
      "source": [
        "Histogram to show the cumulative value for each alcohol_cat in the White Vihno Verde dataset"
      ],
      "metadata": {
        "id": "zGMvpC-RuqV2"
      }
    },
    {
      "cell_type": "code",
      "source": [
        "plt.figure(figsize = (12, 8))\n",
        "sns.histplot(data=white_vihno_dataset, x=\"alcohol_cat\", multiple=\"dodge\")\n",
        "plt.title(\"Count of alcohol_cat in the White Vihno Verde dataset\")\n",
        "plt.xlabel(\"Alcohol_cat\")\n",
        "plt.ylabel(\"Count\")\n",
        "plt.show()\n",
        "plt.close()"
      ],
      "metadata": {
        "id": "RJ27aczRup5U"
      },
      "execution_count": null,
      "outputs": []
    },
    {
      "cell_type": "markdown",
      "source": [
        "Histogram to shows the number of wines at each alcohol_cat rated a certain quality. The y axis had to be log scaled to make sure each bar was shown."
      ],
      "metadata": {
        "id": "OPxZagBPuq2R"
      }
    },
    {
      "cell_type": "code",
      "source": [
        "plt.figure(figsize = (12, 8))\n",
        "sns.histplot(data=white_vihno_dataset, x=\"quality\", hue=\"alcohol_cat\", multiple=\"dodge\")\n",
        "plt.yscale('log')\n",
        "plt.title(\"Distribution of White Vihno Verde quality split into different alcohol content catagories\")\n",
        "plt.xlabel(\"Quality\")\n",
        "plt.ylabel(\"Count\")\n",
        "plt.show()\n",
        "plt.close()\n",
        "\n",
        "\n",
        "plt.figure(figsize = (12, 8))\n",
        "sns.lineplot(data=white_vihno_dataset, x=\"quality\", hue=\"alcohol_cat\")\n",
        "plt.title(\"Distribution of White Vihno Verde quality split into different alcohol content catagories\")\n",
        "plt.xlabel(\"Quality\")\n",
        "plt.ylabel(\"Count\")\n",
        "plt.show()\n",
        "plt.close()\n",
        "\n"
      ],
      "metadata": {
        "colab": {
          "base_uri": "https://localhost:8080/",
          "height": 1000
        },
        "id": "cFmWN9LSiJ17",
        "outputId": "98f26814-6963-4f3b-f6e2-74c36354ab9a"
      },
      "execution_count": 118,
      "outputs": [
        {
          "output_type": "display_data",
          "data": {
            "text/plain": [
              "<Figure size 864x576 with 1 Axes>"
            ],
            "image/png": "[encoded data removed]"
          },
          "metadata": {
            "needs_background": "light"
          }
        },
        {
          "output_type": "stream",
          "name": "stderr",
          "text": [
            "/usr/local/lib/python3.8/dist-packages/numpy/lib/nanfunctions.py:1560: RuntimeWarning: All-NaN slice encountered\n",
            "  r, k = function_base._ureduce(a,\n"
          ]
        },
        {
          "output_type": "display_data",
          "data": {
            "text/plain": [
              "<Figure size 864x576 with 1 Axes>"
            ],
            "image/png": "[encoded data removed]"
          },
          "metadata": {
            "needs_background": "light"
          }
        }
      ]
    }
  ]
}